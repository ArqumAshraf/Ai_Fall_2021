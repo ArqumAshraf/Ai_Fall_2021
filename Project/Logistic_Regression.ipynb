{
  "nbformat": 4,
  "nbformat_minor": 0,
  "metadata": {
    "colab": {
      "name": "Logistic_Regression.ipynb",
      "provenance": [],
      "collapsed_sections": []
    },
    "kernelspec": {
      "name": "python3",
      "display_name": "Python 3"
    },
    "language_info": {
      "name": "python"
    }
  },
  "cells": [
    {
      "cell_type": "code",
      "execution_count": null,
      "metadata": {
        "id": "SQHASXyIdJyG"
      },
      "outputs": [],
      "source": [
        "from google.colab import drive\n",
        "# This will prompt for authorization.\n",
        "drive.mount('/content/drive')"
      ]
    },
    {
      "cell_type": "code",
      "source": [
        "import pandas as pd\n",
        "from sklearn.model_selection import train_test_split\n",
        "from sklearn.feature_extraction.text import TfidfVectorizer\n",
        "from sklearn.naive_bayes import MultinomialNB\n",
        "from sklearn.preprocessing import MinMaxScaler\n",
        "from sklearn.neighbors import KNeighborsClassifier\n",
        "from sklearn.linear_model import LogisticRegression\n",
        "from sklearn import metrics"
      ],
      "metadata": {
        "id": "p3kEa6qLdWMx"
      },
      "execution_count": null,
      "outputs": []
    },
    {
      "cell_type": "code",
      "source": [
        "# SPLITTING AND DISTRIBUTING DATA ON X AND Y AXIS\n",
        "X = train.Elevation\n",
        "Y = train.Cover_Type\n",
        "X_train, X_test, y_train, y_test = train_test_split(X, Y, test_size=0.2,random_state=109)\n",
        "print(\"X_train : \",len(X_train))\n",
        "print(\"X_test : \",len(X_test))\n",
        "print(\"X_train : \",len(y_train))\n",
        "print(\"X_test : \",len(y_test))"
      ],
      "metadata": {
        "id": "IoDbAlc3dqXn"
      },
      "execution_count": null,
      "outputs": []
    },
    {
      "cell_type": "code",
      "source": [
        "# TRAINING MODEL\n",
        "model =LogisticRegression(solver = 'newton-cg')\n",
        "scaler = MinMaxScaler()\n",
        "A= X_train.values.reshape(-1,1)\n",
        "X_train = scaler.fit_transform(A)\n",
        "Test = test_data.values.reshape(-1,1)\n",
        "X_test = scaler.fit_transform(Test)\n",
        "model.fit(X_train,y_train)\n",
        "L = model.predict(Test)"
      ],
      "metadata": {
        "id": "CoRznq4Xduae"
      },
      "execution_count": null,
      "outputs": []
    },
    {
      "cell_type": "code",
      "source": [
        "# Model (Logistic Regression) Accuracy\n",
        "print(\"Accuracy:\",metrics.accuracy_score(Test, L))\n",
        "\n",
        "id = test_data[\"Id\"]\n",
        "Test = pd.DataFrame(id)\n",
        "arr=[]\n",
        "for row in id:\n",
        "  arr.append(L[row])\n",
        "Test[\"Cover type\"] = arr\n",
        "Test.to_csv('score.csv',index = False)"
      ],
      "metadata": {
        "id": "y6bmb0r3dze_"
      },
      "execution_count": null,
      "outputs": []
    }
  ]
}