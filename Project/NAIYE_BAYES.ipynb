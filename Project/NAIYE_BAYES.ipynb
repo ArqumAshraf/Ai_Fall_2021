{
  "nbformat": 4,
  "nbformat_minor": 0,
  "metadata": {
    "colab": {
      "name": "NAIYE_BAYES.ipynb",
      "provenance": [],
      "collapsed_sections": []
    },
    "kernelspec": {
      "name": "python3",
      "display_name": "Python 3"
    },
    "language_info": {
      "name": "python"
    }
  },
  "cells": [
    {
      "cell_type": "code",
      "execution_count": null,
      "metadata": {
        "colab": {
          "base_uri": "https://localhost:8080/"
        },
        "id": "m5H2u9F11Cda",
        "outputId": "914e2d16-ad24-4407-f635-7b58331ebd1d"
      },
      "outputs": [
        {
          "output_type": "stream",
          "name": "stdout",
          "text": [
            "Mounted at /content/drive\n"
          ]
        }
      ],
      "source": [
        "from google.colab import drive\n",
        "# This will prompt for authorization.\n",
        "drive.mount('/content/drive')"
      ]
    },
    {
      "cell_type": "code",
      "source": [
        "import pandas as pd\n",
        "from sklearn.model_selection import train_test_split\n",
        "from sklearn.feature_extraction.text import TfidfVectorizer\n",
        "from sklearn.naive_bayes import MultinomialNB\n",
        "from sklearn.preprocessing import MinMaxScaler\n",
        "from sklearn.neighbors import KNeighborsClassifier\n",
        "from sklearn.linear_model import LogisticRegression\n",
        "from sklearn import metrics\n"
      ],
      "metadata": {
        "id": "72vDuaTEhygq"
      },
      "execution_count": null,
      "outputs": []
    },
    {
      "cell_type": "code",
      "source": [
        "# READING CSV FILE\n",
        "train_data = pd.read_csv('/content/drive/MyDrive/train.csv')\n",
        "test_data = pd.read_csv('/content/drive/MyDrive/test.csv')\n",
        "\n",
        "test_data.head(2)\n",
        "\n",
        "train_data.head(2)\n",
        "\n",
        "train = pd.DataFrame(train_data)"
      ],
      "metadata": {
        "id": "zH1b7QBW1OPs"
      },
      "execution_count": null,
      "outputs": []
    },
    {
      "cell_type": "code",
      "source": [
        "# SPLITTING AND DISTRIBUTING DATA ON X AND Y AXIS\n",
        "X = train.Elevation\n",
        "Y = train.Cover_Type\n",
        "X_train, X_test, y_train, y_test = train_test_split(X, Y, test_size=0.2,random_state=109)\n",
        "print(\"X_train : \",len(X_train))\n",
        "print(\"X_test : \",len(X_test))\n",
        "print(\"X_train : \",len(y_train))\n",
        "print(\"X_test : \",len(y_test))"
      ],
      "metadata": {
        "colab": {
          "base_uri": "https://localhost:8080/"
        },
        "id": "0yfy0spY1VRA",
        "outputId": "b7bd4af8-50a7-4622-fbb4-db97616481da"
      },
      "execution_count": null,
      "outputs": [
        {
          "output_type": "stream",
          "name": "stdout",
          "text": [
            "X_train :  3200000\n",
            "X_test :  800000\n",
            "X_train :  3200000\n",
            "X_test :  800000\n"
          ]
        }
      ]
    },
    {
      "cell_type": "code",
      "source": [
        "# TRAINGING MODEL\n",
        "model =MultinomialNB()\n",
        "scaler = MinMaxScaler()\n",
        "A= X_train.values.reshape(-1,1)\n",
        "X_train = scaler.fit_transform(A)\n",
        "Test = test_data.values.reshape(-1,1)\n",
        "X_test = scaler.fit_transform(Test)\n",
        "model.fit(X_train,y_train)\n",
        "L = model.predict(Test)"
      ],
      "metadata": {
        "id": "ytfsq9Um1Y_-"
      },
      "execution_count": null,
      "outputs": []
    },
    {
      "cell_type": "code",
      "source": [
        "# Model (NAIYE_BAYES) Accuracy\n",
        "print(\"Accuracy:\",metrics.accuracy_score(Test, L))\n",
        "\n",
        "id = test_data[\"Id\"]\n",
        "Test = pd.DataFrame(id)\n",
        "arr=[]\n",
        "for row in id:\n",
        "  arr.append(L[row])\n",
        "Test[\"Cover type\"] = arr\n",
        "Test.to_csv('SCORE.csv',index = False)"
      ],
      "metadata": {
        "id": "q7qW4q0w1tS9",
        "outputId": "ebe86618-d648-4821-b4cf-555a68ef271d",
        "colab": {
          "base_uri": "https://localhost:8080/"
        }
      },
      "execution_count": null,
      "outputs": [
        {
          "output_type": "stream",
          "name": "stdout",
          "text": [
            "Accuracy: 0.0007340545454545455\n"
          ]
        }
      ]
    }
  ]
}