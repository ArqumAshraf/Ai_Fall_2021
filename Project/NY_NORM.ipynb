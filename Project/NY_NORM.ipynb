{
  "nbformat": 4,
  "nbformat_minor": 0,
  "metadata": {
    "colab": {
      "name": "NY_NORM.ipynb",
      "provenance": []
    },
    "kernelspec": {
      "name": "python3",
      "display_name": "Python 3"
    },
    "language_info": {
      "name": "python"
    }
  },
  "cells": [
    {
      "cell_type": "code",
      "execution_count": null,
      "metadata": {
        "id": "exNexPbSq8Jc"
      },
      "outputs": [],
      "source": [
        "from google.colab import drive\n",
        "# This will prompt for authorization.\n",
        "drive.mount('/content/drive')"
      ]
    },
    {
      "cell_type": "code",
      "source": [
        "import pandas as pd\n",
        "from sklearn.model_selection import train_test_split\n",
        "from sklearn.feature_extraction.text import TfidfVectorizer\n",
        "from sklearn.naive_bayes import MultinomialNB\n",
        "from sklearn.preprocessing import MinMaxScaler\n",
        "from sklearn.neighbors import KNeighborsClassifier\n",
        "from sklearn.linear_model import LogisticRegression\n",
        "from sklearn import preprocessing\n",
        "from sklearn import utils\n",
        "from sklearn import metrics"
      ],
      "metadata": {
        "id": "1RlyQ46trAIC"
      },
      "execution_count": null,
      "outputs": []
    },
    {
      "cell_type": "code",
      "source": [
        "# READING CSV FILE\n",
        "train_data = pd.read_csv('/content/drive/MyDrive/train.csv')\n",
        "test_data = pd.read_csv('/content/drive/MyDrive/test.csv')\n",
        "\n",
        "test_data.head(2)\n",
        "\n",
        "train_data.head(2)\n",
        "\n",
        "train = pd.DataFrame(train_data)"
      ],
      "metadata": {
        "id": "igPAeuYlrC1_"
      },
      "execution_count": null,
      "outputs": []
    },
    {
      "cell_type": "code",
      "source": [
        "# NORMALIZING BETWEEON 0 AND 1\n",
        "train_norm=(train-train.min())/(train.max()-train.min())"
      ],
      "metadata": {
        "id": "9hRM1tVCrF2-"
      },
      "execution_count": null,
      "outputs": []
    },
    {
      "cell_type": "code",
      "source": [
        "# SPLITTING AND DISTRIBUTING DATA ON X AND Y AXIS\n",
        "X = train_norm.Elevation\n",
        "Y = train_norm.Cover_Type\n",
        "X_train, X_test, y_train, y_test = train_test_split(X, Y, test_size=0.2,random_state=255)\n",
        "print(\"X_train : \",len(X_train))\n",
        "print(\"X_test : \",len(X_test))\n",
        "print(\"X_train : \",len(y_train))\n",
        "print(\"X_test : \",len(y_test))"
      ],
      "metadata": {
        "id": "0pB-5D9ztFRB"
      },
      "execution_count": null,
      "outputs": []
    },
    {
      "cell_type": "code",
      "source": [
        "# TRAINING MODEL\n",
        "model =MultinomialNB()\n",
        "scaler = MinMaxScaler()\n",
        "lab_enc = preprocessing.LabelEncoder()\n",
        "X_train = lab_enc.fit_transform(X_train)\n",
        "A= X_train.reshape(-1,1)\n",
        "X_train = scaler.fit_transform(A)\n",
        "y_train = lab_enc.fit_transform(y_train)\n",
        "Test = test_data.values.reshape(-1,1)\n",
        "X_test = scaler.fit_transform(Test)\n",
        "model.fit(X_train,y_train)\n",
        "L = model.predict(Test)"
      ],
      "metadata": {
        "id": "6lv9maonrJmE"
      },
      "execution_count": null,
      "outputs": []
    },
    {
      "cell_type": "code",
      "source": [
        "# Model (NY_NORM)Accuracy\n",
        "print(\"Accuracy:\",metrics.accuracy_score(Test, L))\n",
        "\n",
        "id = test_data[\"Id\"]\n",
        "Test = pd.DataFrame(id)\n",
        "arr=[]\n",
        "for row in id:\n",
        "  arr.append(L[row])\n",
        "Test[\"Cover type\"] = arr\n",
        "Test.to_csv('Score.csv',index = False)"
      ],
      "metadata": {
        "id": "cFmV0c5GtACo"
      },
      "execution_count": null,
      "outputs": []
    }
  ]
}