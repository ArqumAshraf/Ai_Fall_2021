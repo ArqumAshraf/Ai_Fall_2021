{
  "nbformat": 4,
  "nbformat_minor": 0,
  "metadata": {
    "colab": {
      "name": "KNN.ipynb",
      "provenance": [],
      "collapsed_sections": []
    },
    "kernelspec": {
      "name": "python3",
      "display_name": "Python 3"
    },
    "language_info": {
      "name": "python"
    }
  },
  "cells": [
    {
      "cell_type": "code",
      "execution_count": null,
      "metadata": {
        "colab": {
          "base_uri": "https://localhost:8080/"
        },
        "id": "aWKmPj_rNwZi",
        "outputId": "c92dd0bf-a5a7-48f7-a63b-a693487571b7"
      },
      "outputs": [
        {
          "output_type": "stream",
          "name": "stdout",
          "text": [
            "Mounted at /content/drive\n"
          ]
        }
      ],
      "source": [
        "from google.colab import drive\n",
        "# This will prompt for authorization.\n",
        "drive.mount('/content/drive')\n"
      ]
    },
    {
      "cell_type": "code",
      "source": [
        "import pandas as pd\n",
        "from sklearn.model_selection import train_test_split\n",
        "from sklearn.feature_extraction.text import TfidfVectorizer\n",
        "from sklearn.naive_bayes import MultinomialNB\n",
        "from sklearn.preprocessing import MinMaxScaler\n",
        "from sklearn.neighbors import KNeighborsClassifier\n",
        "from sklearn import metrics\n"
      ],
      "metadata": {
        "id": "tUIhJNBVlQjV"
      },
      "execution_count": null,
      "outputs": []
    },
    {
      "cell_type": "code",
      "source": [
        "# READING CSV FILE\n",
        "train_data = pd.read_csv('/content/drive/MyDrive/train.csv')\n",
        "test_data = pd.read_csv('/content/drive/MyDrive/test.csv')\n",
        "\n",
        "test_data.head(2)\n",
        "\n",
        "train_data.head(2)\n",
        "\n",
        "train = pd.DataFrame(train_data)"
      ],
      "metadata": {
        "id": "17fHu0bwN7Cd"
      },
      "execution_count": null,
      "outputs": []
    },
    {
      "cell_type": "code",
      "source": [
        "# SPLITTING AND DISTRIBUTING DATA ON X AND Y AXIS\n",
        "X = train.Elevation\n",
        "Y = train.Cover_Type\n",
        "X_train, X_test, y_train, y_test = train_test_split(X, Y, test_size=0.2,random_state=109)\n",
        "print(\"X_train : \",len(X_train))\n",
        "print(\"X_test : \",len(X_test))\n",
        "print(\"X_train : \",len(y_train))\n",
        "print(\"X_test : \",len(y_test))"
      ],
      "metadata": {
        "colab": {
          "base_uri": "https://localhost:8080/"
        },
        "id": "cDfEgwBrN8mE",
        "outputId": "a61b15b0-3740-4d6a-e94e-faa1ea51d400"
      },
      "execution_count": null,
      "outputs": [
        {
          "output_type": "stream",
          "name": "stdout",
          "text": [
            "X_train :  3200000\n",
            "X_test :  800000\n",
            "X_train :  3200000\n",
            "X_test :  800000\n"
          ]
        }
      ]
    },
    {
      "cell_type": "code",
      "source": [
        "# TRAINING MODEL\n",
        "model = KNeighborsClassifier(n_neighbors=2)\n",
        "scaler = MinMaxScaler()\n",
        "A= X_train.values.reshape(-1,1)\n",
        "X_train = scaler.fit_transform(A)\n",
        "Test = test_data.values.reshape(-1,1)\n",
        "X_test = scaler.fit_transform(Test)\n",
        "model.fit(X_train,y_train)\n",
        "L = model.predict(Test)\n"
      ],
      "metadata": {
        "id": "XryUXldfOAPu"
      },
      "execution_count": null,
      "outputs": []
    },
    {
      "cell_type": "code",
      "source": [
        "# Model KNN Accuracy\n",
        "print(\"Accuracy:\",metrics.accuracy_score(Test, L))\n",
        "\n",
        "id = test_data[\"Id\"]\n",
        "Test = pd.DataFrame(id)\n",
        "arr=[]\n",
        "for row in id:\n",
        "  arr.append(L[row])\n",
        "Test[\"Cover_Type\"] = arr\n",
        "Test.to_csv('Score.csv',index = False)"
      ],
      "metadata": {
        "id": "jAiBLqWJOD0b",
        "colab": {
          "base_uri": "https://localhost:8080/"
        },
        "outputId": "669e53f4-34a4-4292-b1ea-4190a19cf205"
      },
      "execution_count": null,
      "outputs": [
        {
          "output_type": "stream",
          "name": "stdout",
          "text": [
            "Accuracy: 0.03258356363636364\n"
          ]
        }
      ]
    }
  ]
}