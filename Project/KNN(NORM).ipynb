{
  "nbformat": 4,
  "nbformat_minor": 0,
  "metadata": {
    "colab": {
      "name": "KNN(NORM).ipynb",
      "provenance": [],
      "collapsed_sections": []
    },
    "kernelspec": {
      "name": "python3",
      "display_name": "Python 3"
    },
    "language_info": {
      "name": "python"
    }
  },
  "cells": [
    {
      "cell_type": "code",
      "execution_count": null,
      "metadata": {
        "colab": {
          "base_uri": "https://localhost:8080/"
        },
        "id": "ot3KrkZsbOaP",
        "outputId": "84aa8ec8-3168-4e2e-80ce-325cc5b4f56f"
      },
      "outputs": [
        {
          "output_type": "stream",
          "name": "stdout",
          "text": [
            "Mounted at /content/drive\n"
          ]
        }
      ],
      "source": [
        "from google.colab import drive\n",
        "# This will prompt for authorization.\n",
        "drive.mount('/content/drive')"
      ]
    },
    {
      "cell_type": "code",
      "source": [
        "import pandas as pd\n",
        "from sklearn.model_selection import train_test_split\n",
        "from sklearn.feature_extraction.text import TfidfVectorizer\n",
        "from sklearn.naive_bayes import MultinomialNB\n",
        "from sklearn.preprocessing import MinMaxScaler\n",
        "from sklearn.neighbors import KNeighborsClassifier\n",
        "from sklearn.linear_model import LogisticRegression\n",
        "from sklearn import preprocessing\n",
        "from sklearn import utils\n",
        "from sklearn import metrics"
      ],
      "metadata": {
        "id": "0l-cGQxpp-e0"
      },
      "execution_count": null,
      "outputs": []
    },
    {
      "cell_type": "code",
      "source": [
        "# READING CSV FILE\n",
        "import pandas as pd\n",
        "train_data = pd.read_csv('/content/drive/MyDrive/train.csv')\n",
        "test_data = pd.read_csv('/content/drive/MyDrive/test.csv')\n",
        "\n",
        "test_data.head(2)\n",
        "\n",
        "train_data.head(2)\n",
        "\n",
        "train = pd.DataFrame(train_data)"
      ],
      "metadata": {
        "id": "rsIAattQbY40"
      },
      "execution_count": null,
      "outputs": []
    },
    {
      "cell_type": "code",
      "source": [
        "# NORMALIZING BETWEEN 0 AND 1\n",
        "train_norm=(train-train.min())/(train.max()-train.min())"
      ],
      "metadata": {
        "id": "hS5QL8uSbaBl"
      },
      "execution_count": null,
      "outputs": []
    },
    {
      "cell_type": "code",
      "source": [
        "# SPLITTING AND DISTRIBUTING DATA ON X AND Y AXIS\n",
        "X = train_norm.Elevation\n",
        "Y = train_norm.Cover_Type\n",
        "X_train, X_test, y_train, y_test = train_test_split(X, Y, test_size=0.2,random_state=255)\n",
        "print(\"X_train : \",len(X_train))\n",
        "print(\"X_test : \",len(X_test))\n",
        "print(\"X_train : \",len(y_train))\n",
        "print(\"X_test : \",len(y_test))"
      ],
      "metadata": {
        "colab": {
          "base_uri": "https://localhost:8080/"
        },
        "id": "vrcQ7ihibeKM",
        "outputId": "087e3d39-ede0-4df7-a1d5-9f6fb1c08f5a"
      },
      "execution_count": null,
      "outputs": [
        {
          "output_type": "stream",
          "name": "stdout",
          "text": [
            "X_train :  3200000\n",
            "X_test :  800000\n",
            "X_train :  3200000\n",
            "X_test :  800000\n"
          ]
        }
      ]
    },
    {
      "cell_type": "code",
      "source": [
        "# TRAING MODEL\n",
        "model = KNeighborsClassifier(n_neighbors=2)\n",
        "scaler = MinMaxScaler()\n",
        "lab_enc = preprocessing.LabelEncoder()\n",
        "X_train = lab_enc.fit_transform(X_train)\n",
        "A= X_train.reshape(-1,1)\n",
        "X_train = scaler.fit_transform(A)\n",
        "y_train = lab_enc.fit_transform(y_train)\n",
        "Test = test_data.values.reshape(-1,1)\n",
        "X_test = scaler.fit_transform(Test)\n",
        "model.fit(X_train,y_train)\n",
        "L = model.predict(Test)"
      ],
      "metadata": {
        "id": "ANpcgAlLbk0m"
      },
      "execution_count": null,
      "outputs": []
    },
    {
      "cell_type": "code",
      "source": [
        "# Model (KNN_NORM)Accuracy\n",
        "print(\"Accuracy:\",metrics.accuracy_score(Test, L))\n",
        "id = test_data[\"Id\"]\n",
        "Test = pd.DataFrame(id)\n",
        "arr=[]\n",
        "for row in id:\n",
        "  arr.append(L[row])\n",
        "Test[\"Cover type\"] = arr\n",
        "Test.to_csv('Score.csv',index = False)"
      ],
      "metadata": {
        "colab": {
          "base_uri": "https://localhost:8080/",
          "height": 252
        },
        "id": "epI2AjL8cLCo",
        "outputId": "309fffd5-824b-453b-f50b-08985ca06b62"
      },
      "execution_count": 13,
      "outputs": [
        {
          "output_type": "stream",
          "name": "stdout",
          "text": [
            "Accuracy:0.00076234589\n"
          ]
        },
        {
          "output_type": "error",
          "ename": "NameError",
          "evalue": "ignored",
          "traceback": [
            "\u001b[0;31m---------------------------------------------------------------------------\u001b[0m",
            "\u001b[0;31mNameError\u001b[0m                                 Traceback (most recent call last)",
            "\u001b[0;32m<ipython-input-13-9e342f4a5b59>\u001b[0m in \u001b[0;36m<module>\u001b[0;34m()\u001b[0m\n\u001b[1;32m      6\u001b[0m \u001b[0marr\u001b[0m\u001b[0;34m=\u001b[0m\u001b[0;34m[\u001b[0m\u001b[0;34m]\u001b[0m\u001b[0;34m\u001b[0m\u001b[0;34m\u001b[0m\u001b[0m\n\u001b[1;32m      7\u001b[0m \u001b[0;32mfor\u001b[0m \u001b[0mrow\u001b[0m \u001b[0;32min\u001b[0m \u001b[0mid\u001b[0m\u001b[0;34m:\u001b[0m\u001b[0;34m\u001b[0m\u001b[0;34m\u001b[0m\u001b[0m\n\u001b[0;32m----> 8\u001b[0;31m   \u001b[0marr\u001b[0m\u001b[0;34m.\u001b[0m\u001b[0mappend\u001b[0m\u001b[0;34m(\u001b[0m\u001b[0mL\u001b[0m\u001b[0;34m[\u001b[0m\u001b[0mrow\u001b[0m\u001b[0;34m]\u001b[0m\u001b[0;34m)\u001b[0m\u001b[0;34m\u001b[0m\u001b[0;34m\u001b[0m\u001b[0m\n\u001b[0m\u001b[1;32m      9\u001b[0m \u001b[0mTest\u001b[0m\u001b[0;34m[\u001b[0m\u001b[0;34m\"Cover type\"\u001b[0m\u001b[0;34m]\u001b[0m \u001b[0;34m=\u001b[0m \u001b[0marr\u001b[0m\u001b[0;34m\u001b[0m\u001b[0;34m\u001b[0m\u001b[0m\n\u001b[1;32m     10\u001b[0m \u001b[0mTest\u001b[0m\u001b[0;34m.\u001b[0m\u001b[0mto_csv\u001b[0m\u001b[0;34m(\u001b[0m\u001b[0;34m'Score.csv'\u001b[0m\u001b[0;34m,\u001b[0m\u001b[0mindex\u001b[0m \u001b[0;34m=\u001b[0m \u001b[0;32mFalse\u001b[0m\u001b[0;34m)\u001b[0m\u001b[0;34m\u001b[0m\u001b[0;34m\u001b[0m\u001b[0m\n",
            "\u001b[0;31mNameError\u001b[0m: name 'L' is not defined"
          ]
        }
      ]
    }
  ]
}